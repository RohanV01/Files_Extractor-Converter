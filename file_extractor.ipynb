{
 "cells": [
  {
   "cell_type": "code",
   "execution_count": 3,
   "metadata": {},
   "outputs": [],
   "source": [
    "import os\n",
    "import zipfile\n",
    "from pathlib import Path\n",
    "\n",
    "def extract_all_zips(source_folder, destination_folder):\n",
    "    # Ensure destination directory exists\n",
    "    Path(destination_folder).mkdir(parents=True, exist_ok=True)\n",
    "    \n",
    "    # Walk through all files and directories in the source folder\n",
    "    for root, dirs, files in os.walk(source_folder):\n",
    "        for file in files:\n",
    "            if file.endswith('.zip'):\n",
    "                # Construct full file path\n",
    "                file_path = os.path.join(root, file)\n",
    "                try:\n",
    "                    with zipfile.ZipFile(file_path, 'r') as zip_ref:\n",
    "                        # Extract all contents of zip file to the destination folder\n",
    "                        zip_ref.extractall(destination_folder)\n",
    "                        print(f\"Extracted {file} to {destination_folder}\")\n",
    "                except zipfile.BadZipFile:\n",
    "                    print(f\"Failed to extract {file_path}, it might be a corrupted file.\")\n",
    "\n",
    "# Define the source and destination paths\n",
    "source_folder = r'E:\\\\Research_Papers'\n",
    "destination_folder = r'D:\\\\Extracted_Research_Papers'\n",
    "\n",
    "# Call the function\n",
    "extract_all_zips(source_folder, destination_folder)"
   ]
  },
  {
   "cell_type": "code",
   "execution_count": null,
   "metadata": {},
   "outputs": [],
   "source": []
  }
 ],
 "metadata": {
  "kernelspec": {
   "display_name": "myenv",
   "language": "python",
   "name": "python3"
  },
  "language_info": {
   "codemirror_mode": {
    "name": "ipython",
    "version": 3
   },
   "file_extension": ".py",
   "mimetype": "text/x-python",
   "name": "python",
   "nbconvert_exporter": "python",
   "pygments_lexer": "ipython3",
   "version": "3.12.4"
  }
 },
 "nbformat": 4,
 "nbformat_minor": 2
}
